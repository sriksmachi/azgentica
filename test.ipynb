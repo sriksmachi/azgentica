{
 "cells": [
  {
   "cell_type": "code",
   "execution_count": null,
   "id": "3f32d549",
   "metadata": {},
   "outputs": [],
   "source": [
    "%pip install -qU azure-ai-documentintelligence pandas"
   ]
  },
  {
   "cell_type": "code",
   "execution_count": null,
   "id": "a85d69a1",
   "metadata": {},
   "outputs": [],
   "source": [
    "# text splitting and chunking\n",
    "import os\n",
    "from azure.core.credentials import AzureKeyCredential\n",
    "from azure.ai.documentintelligence import DocumentIntelligenceClient\n",
    "from dotenv import load_dotenv\n",
    "\n",
    "load_dotenv()\n",
    "di_endpoint = os.getenv(\"AZURE_DOCUMENT_INTELLIGENCE_ENDPOINT\")\n",
    "di_credential = AzureKeyCredential(os.getenv(\"AZURE_DOCUMENT_INTELLIGENCE_KEY\"))\n",
    "document_intelligence_client = DocumentIntelligenceClient(di_endpoint, di_credential)"
   ]
  },
  {
   "cell_type": "code",
   "execution_count": 3,
   "id": "9b4d1cf4",
   "metadata": {},
   "outputs": [],
   "source": [
    "path_to_sample_documents = \"data/azure-well-architected.pdf\"\n",
    "\n",
    "if not os.path.exists(path_to_sample_documents):\n",
    "    raise FileNotFoundError(f\"Sample document not found at {path_to_sample_documents}\")\n",
    "\n",
    "# read document and analyze layout\n",
    "with open(path_to_sample_documents, \"rb\") as f:\n",
    "    poller = document_intelligence_client.begin_analyze_document(\"prebuilt-layout\", body = f)\n",
    "\n",
    "result = poller.result()"
   ]
  },
  {
   "cell_type": "code",
   "execution_count": 22,
   "id": "950797c8",
   "metadata": {},
   "outputs": [
    {
     "name": "stdout",
     "output_type": "stream",
     "text": [
      "Extracted 22 documents with headings and text.\n"
     ]
    }
   ],
   "source": [
    "import pandas as pd\n",
    "import uuid\n",
    "\n",
    "# Extract Text and Headings\n",
    "pages = []\n",
    "\n",
    "# Structure the documents as Pages -> Paragraphs -> Text\n",
    "for paragraph in result.paragraphs:\n",
    "    page = {}\n",
    "    role = paragraph[\"role\"] if \"role\" in paragraph else \"paragraph\"\n",
    "    content = paragraph[\"content\"] if \"content\" in paragraph else \"\"\n",
    "    # if a title with \"Architecture best practices for\" is found, create a new page\n",
    "    if \"Architecture best practices for\" in content and role == \"title\":\n",
    "        # Extract headings and text\n",
    "        page[\"id\"] = str(uuid.uuid4())\n",
    "        page[\"heading\"] = content\n",
    "        page[\"content\"] = content\n",
    "        pages.append(page)\n",
    "    else:\n",
    "        page = pages[-1]\n",
    "        page[\"content\"] += f\"\\n{content}\"\n",
    "print(f\"Extracted {len(pages)} documents with headings and text.\")"
   ]
  },
  {
   "cell_type": "code",
   "execution_count": 1,
   "id": "3a61ddf6",
   "metadata": {},
   "outputs": [
    {
     "ename": "NameError",
     "evalue": "name 'pd' is not defined",
     "output_type": "error",
     "traceback": [
      "\u001b[31m---------------------------------------------------------------------------\u001b[39m",
      "\u001b[31mNameError\u001b[39m                                 Traceback (most recent call last)",
      "\u001b[36mCell\u001b[39m\u001b[36m \u001b[39m\u001b[32mIn[1]\u001b[39m\u001b[32m, line 1\u001b[39m\n\u001b[32m----> \u001b[39m\u001b[32m1\u001b[39m \u001b[43mpd\u001b[49m.DataFrame(pages).to_csv(\u001b[33m\"\u001b[39m\u001b[33mdata/azure-well-architected-pages.csv\u001b[39m\u001b[33m\"\u001b[39m, index=\u001b[38;5;28;01mFalse\u001b[39;00m)\n",
      "\u001b[31mNameError\u001b[39m: name 'pd' is not defined"
     ]
    }
   ],
   "source": [
    "pd.DataFrame(pages).to_csv(\"data/azure-well-architected-pages.csv\", index=False)"
   ]
  }
 ],
 "metadata": {
  "kernelspec": {
   "display_name": ".venv",
   "language": "python",
   "name": "python3"
  },
  "language_info": {
   "codemirror_mode": {
    "name": "ipython",
    "version": 3
   },
   "file_extension": ".py",
   "mimetype": "text/x-python",
   "name": "python",
   "nbconvert_exporter": "python",
   "pygments_lexer": "ipython3",
   "version": "3.11.9"
  }
 },
 "nbformat": 4,
 "nbformat_minor": 5
}
