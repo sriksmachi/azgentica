{
 "cells": [
  {
   "cell_type": "code",
   "execution_count": 5,
   "id": "e0130b96",
   "metadata": {},
   "outputs": [
    {
     "name": "stdout",
     "output_type": "stream",
     "text": [
      "Note: you may need to restart the kernel to use updated packages.\n"
     ]
    },
    {
     "name": "stderr",
     "output_type": "stream",
     "text": [
      "\n",
      "[notice] A new release of pip is available: 24.0 -> 25.1.1\n",
      "[notice] To update, run: python.exe -m pip install --upgrade pip\n"
     ]
    }
   ],
   "source": [
    "%pip install -q langchain langchain_core"
   ]
  },
  {
   "cell_type": "code",
   "execution_count": null,
   "id": "6c1fd6df",
   "metadata": {},
   "outputs": [],
   "source": [
    "from image_data_extraction import image_analysis\n",
    "\n",
    "import json\n",
    "\n",
    "# from build_graph import build_graph\n",
    "image_path = \"protect-apis.png\"\n",
    "result = image_analysis(image_path=image_path)\n",
    "result_json = json.dumps(result, indent=2)\n",
    "print(result_json)"
   ]
  },
  {
   "cell_type": "code",
   "execution_count": null,
   "id": "5e964c2e",
   "metadata": {},
   "outputs": [],
   "source": [
    "from build_graph import create_architecture_graph, draw_graph\n",
    "graph = create_architecture_graph(response_json)"
   ]
  }
 ],
 "metadata": {
  "kernelspec": {
   "display_name": ".venv",
   "language": "python",
   "name": "python3"
  },
  "language_info": {
   "codemirror_mode": {
    "name": "ipython",
    "version": 3
   },
   "file_extension": ".py",
   "mimetype": "text/x-python",
   "name": "python",
   "nbconvert_exporter": "python",
   "pygments_lexer": "ipython3",
   "version": "3.11.9"
  }
 },
 "nbformat": 4,
 "nbformat_minor": 5
}
